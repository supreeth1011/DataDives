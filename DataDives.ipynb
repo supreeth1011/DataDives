{
 "cells": [
  {
   "cell_type": "code",
   "execution_count": 9,
   "id": "e629a63d-2ddf-43a2-8dfb-f5f5f0e13d86",
   "metadata": {},
   "outputs": [
    {
     "name": "stdout",
     "output_type": "stream",
     "text": [
      "+------+----------+------------------+------------------+------------------+------------------+------------------+--------+\n",
      "|Ticker|      Date|              Open|              High|               Low|             Close|         Adj Close|  Volume|\n",
      "+------+----------+------------------+------------------+------------------+------------------+------------------+--------+\n",
      "|  AAPL|2023-02-07|150.63999938964844|155.22999572753906|150.63999938964844|154.64999389648438| 154.4142303466797|83322600|\n",
      "|  AAPL|2023-02-08| 153.8800048828125| 154.5800018310547| 151.1699981689453| 151.9199981689453| 151.6884002685547|64120100|\n",
      "|  AAPL|2023-02-09|153.77999877929688| 154.3300018310547| 150.4199981689453| 150.8699951171875|150.63999938964844|56007100|\n",
      "|  AAPL|2023-02-10| 149.4600067138672|151.33999633789062|149.22000122070312|151.00999450683594|151.00999450683594|57450700|\n",
      "|  AAPL|2023-02-13| 150.9499969482422|154.25999450683594| 150.9199981689453|153.85000610351562|153.85000610351562|62199000|\n",
      "|  AAPL|2023-02-14| 152.1199951171875|153.77000427246094|150.86000061035156| 153.1999969482422| 153.1999969482422|61707600|\n",
      "|  AAPL|2023-02-15|153.11000061035156|             155.5| 152.8800048828125| 155.3300018310547| 155.3300018310547|65573800|\n",
      "|  AAPL|2023-02-16|153.50999450683594| 156.3300018310547|153.35000610351562| 153.7100067138672| 153.7100067138672|68167900|\n",
      "|  AAPL|2023-02-17|152.35000610351562|             153.0|150.85000610351562| 152.5500030517578| 152.5500030517578|59144100|\n",
      "|  AAPL|2023-02-21| 150.1999969482422| 151.3000030517578|148.41000366210938|148.47999572753906|148.47999572753906|58867200|\n",
      "|  AAPL|2023-02-22| 148.8699951171875| 149.9499969482422|147.16000366210938|148.91000366210938|148.91000366210938|51011300|\n",
      "|  AAPL|2023-02-23|150.08999633789062|150.33999633789062|147.24000549316406|149.39999389648438|149.39999389648438|48394200|\n",
      "|  AAPL|2023-02-24|147.11000061035156|147.19000244140625|145.72000122070312| 146.7100067138672| 146.7100067138672|55469600|\n",
      "|  AAPL|2023-02-27| 147.7100067138672| 149.1699981689453| 147.4499969482422| 147.9199981689453| 147.9199981689453|44998500|\n",
      "|  AAPL|2023-02-28| 147.0500030517578| 149.0800018310547| 146.8300018310547|147.41000366210938|147.41000366210938|50547000|\n",
      "|  AAPL|2023-03-01| 146.8300018310547|147.22999572753906|145.00999450683594|145.30999755859375|145.30999755859375|55479000|\n",
      "|  AAPL|2023-03-02| 144.3800048828125| 146.7100067138672|143.89999389648438|145.91000366210938|145.91000366210938|52238100|\n",
      "|  AAPL|2023-03-03| 148.0399932861328|151.11000061035156| 147.3300018310547|151.02999877929688|151.02999877929688|70732300|\n",
      "|  AAPL|2023-03-06| 153.7899932861328| 156.3000030517578| 153.4600067138672| 153.8300018310547| 153.8300018310547|87558000|\n",
      "|  AAPL|2023-03-07| 153.6999969482422|154.02999877929688| 151.1300048828125|151.60000610351562|151.60000610351562|56182000|\n",
      "+------+----------+------------------+------------------+------------------+------------------+------------------+--------+\n",
      "only showing top 20 rows\n",
      "\n",
      "+----------+------------------+\n",
      "|      Date|             Close|\n",
      "+----------+------------------+\n",
      "|2023-02-07|154.64999389648438|\n",
      "|2023-02-08| 151.9199981689453|\n",
      "|2023-02-09| 150.8699951171875|\n",
      "|2023-02-10|151.00999450683594|\n",
      "|2023-02-13|153.85000610351562|\n",
      "|2023-02-14| 153.1999969482422|\n",
      "|2023-02-15| 155.3300018310547|\n",
      "|2023-02-16| 153.7100067138672|\n",
      "|2023-02-17| 152.5500030517578|\n",
      "|2023-02-21|148.47999572753906|\n",
      "|2023-02-22|148.91000366210938|\n",
      "|2023-02-23|149.39999389648438|\n",
      "|2023-02-24| 146.7100067138672|\n",
      "|2023-02-27| 147.9199981689453|\n",
      "|2023-02-28|147.41000366210938|\n",
      "|2023-03-01|145.30999755859375|\n",
      "|2023-03-02|145.91000366210938|\n",
      "|2023-03-03|151.02999877929688|\n",
      "|2023-03-06| 153.8300018310547|\n",
      "|2023-03-07|151.60000610351562|\n",
      "+----------+------------------+\n",
      "only showing top 20 rows\n",
      "\n"
     ]
    }
   ],
   "source": [
    "from pyspark.sql import SparkSession\n",
    "\n",
    "# Initialize SparkSession\n",
    "spark = SparkSession.builder \\\n",
    "    .appName(\"Stock_Price_Analysis\") \\\n",
    "    .getOrCreate()\n",
    "\n",
    "# Load historical stock price data\n",
    "stock_price_data = spark.read.csv(\"stocks.csv\", header=True, inferSchema=True)\n",
    "\n",
    "# Show the first few rows of the DataFrame\n",
    "stock_price_data.show()\n",
    "\n",
    "# Visualize stock price trends over time\n",
    "stock_price_data.createOrReplaceTempView(\"stock_prices\")\n",
    "spark.sql(\"SELECT Date, Close FROM stock_prices\").show()"
   ]
  },
  {
   "cell_type": "code",
   "execution_count": 10,
   "id": "fde2a793-8ed8-471a-be1f-338e16f3133a",
   "metadata": {},
   "outputs": [
    {
     "name": "stdout",
     "output_type": "stream",
     "text": [
      "+----------+--------+\n",
      "|      Date|  Volume|\n",
      "+----------+--------+\n",
      "|2023-02-07|83322600|\n",
      "|2023-02-08|64120100|\n",
      "|2023-02-09|56007100|\n",
      "|2023-02-10|57450700|\n",
      "|2023-02-13|62199000|\n",
      "|2023-02-14|61707600|\n",
      "|2023-02-15|65573800|\n",
      "|2023-02-16|68167900|\n",
      "|2023-02-17|59144100|\n",
      "|2023-02-21|58867200|\n",
      "|2023-02-22|51011300|\n",
      "|2023-02-23|48394200|\n",
      "|2023-02-24|55469600|\n",
      "|2023-02-27|44998500|\n",
      "|2023-02-28|50547000|\n",
      "|2023-03-01|55479000|\n",
      "|2023-03-02|52238100|\n",
      "|2023-03-03|70732300|\n",
      "|2023-03-06|87558000|\n",
      "|2023-03-07|56182000|\n",
      "+----------+--------+\n",
      "only showing top 20 rows\n",
      "\n"
     ]
    }
   ],
   "source": [
    "spark.sql(\"SELECT Date, Volume FROM stock_prices\").show()"
   ]
  },
  {
   "cell_type": "code",
   "execution_count": 19,
   "id": "fbb63894-e37b-45c7-8e6c-474333ba0036",
   "metadata": {},
   "outputs": [
    {
     "name": "stdout",
     "output_type": "stream",
     "text": [
      "Root Mean Squared Error (RMSE) for Tradding stock price Prediction: 0.11759753623393689\n"
     ]
    }
   ],
   "source": [
    "from pyspark.ml.feature import VectorAssembler\n",
    "from pyspark.ml.regression import LinearRegression\n",
    "from pyspark.ml.evaluation import RegressionEvaluator\n",
    "\n",
    "# Feature engineering\n",
    "vectorAssembler = VectorA+ssembler(inputCols=[\"Open\", \"High\", \"Low\", \"Adj Close\", \"Volume\"], outputCol=\"features\")\n",
    "feature_df = vectorAssembler.transform(stock_price_data)\n",
    "\n",
    "# Split data into train and test sets\n",
    "train_data, test_data = feature_df.randomSplit([0.8, 0.2], seed=42)\n",
    "\n",
    "# Train a Linear Regression model\n",
    "lr = LinearRegression(featuresCol=\"features\", labelCol=\"Close\")\n",
    "lr_model = lr.fit(train_data)\n",
    "\n",
    "# Make predictions\n",
    "predictions = lr_model.transform(test_data)\n",
    "\n",
    "# Evaluate the model\n",
    "evaluator = RegressionEvaluator(labelCol=\"Close\", predictionCol=\"prediction\", metricName=\"rmse\")\n",
    "rmse = evaluator.evaluate(predictions)\n",
    "print(\"Root Mean Squared Error (RMSE) for Tradding stock price Prediction:\", rmse)\n"
   ]
  },
  {
   "cell_type": "code",
   "execution_count": 20,
   "id": "c2df699e-7630-45d7-9769-efdd503b3fe0",
   "metadata": {},
   "outputs": [
    {
     "name": "stdout",
     "output_type": "stream",
     "text": [
      "Root Mean Squared Error (RMSE) for Trading Volume Prediction: 42456847.62089314\n"
     ]
    }
   ],
   "source": [
    "# Similar to previous steps but with 'Volume' as the label column\n",
    "lr = LinearRegression(featuresCol=\"features\", labelCol=\"Volume\")\n",
    "lr_model = lr.fit(train_data)\n",
    "predictions = lr_model.transform(test_data)\n",
    "rmse = evaluator.evaluate(predictions)\n",
    "print(\"Root Mean Squared Error (RMSE) for Trading Volume Prediction:\", rmse)"
   ]
  },
  {
   "cell_type": "code",
   "execution_count": 40,
   "id": "b8bda79f-7d30-4c6e-913a-27c30f9b2232",
   "metadata": {},
   "outputs": [
    {
     "name": "stdout",
     "output_type": "stream",
     "text": [
      "Correlation Matrix for Stock Price Prediction:\n",
      "\tOpen\tHigh\tLow\tAdj Close\t\n",
      "Open\t1.0000\t0.9996\t0.9996\t0.9992\t\n",
      "High\t0.9996\t1.0000\t0.9997\t0.9996\t\n",
      "Low\t0.9996\t0.9997\t1.0000\t0.9997\t\n",
      "Adj Close\t0.9992\t0.9996\t0.9997\t1.0000\t\n"
     ]
    }
   ],
   "source": [
    "from pyspark.sql import SparkSession\n",
    "from pyspark.ml.feature import VectorAssembler\n",
    "from pyspark.ml.stat import Correlation\n",
    "\n",
    "# Initialize SparkSession\n",
    "spark = SparkSession.builder \\\n",
    "    .appName(\"Stock_Price_Analysis\") \\\n",
    "    .getOrCreate()\n",
    "\n",
    "# Load stock price dataset\n",
    "stock_price_data = spark.read.csv(\"stocks.csv\", header=True, inferSchema=True)\n",
    "\n",
    "# Feature engineering\n",
    "feature_cols = [\"Open\", \"High\", \"Low\", \"Adj Close\"]\n",
    "vectorAssembler = VectorAssembler(inputCols=feature_cols, outputCol=\"features\")\n",
    "feature_df = vectorAssembler.transform(stock_price_data.select(feature_cols))\n",
    "\n",
    "# Calculate correlation matrix\n",
    "corr_matrix = Correlation.corr(feature_df, \"features\").head()[0]\n",
    "\n",
    "# Display correlation matrix\n",
    "print(\"Correlation Matrix for Stock Price Prediction:\")\n",
    "print(\"\\t\", end=\"\")\n",
    "for col in feature_cols:\n",
    "    print(f\"{col}\\t\", end=\"\")\n",
    "print()\n",
    "for i, row in enumerate(corr_matrix.toArray()):\n",
    "    print(f\"{feature_cols[i]}\\t\", end=\"\")\n",
    "    for val in row:\n",
    "        print(f\"{val:.4f}\\t\", end=\"\")\n",
    "    print()\n"
   ]
  },
  {
   "cell_type": "code",
   "execution_count": 39,
   "id": "b8f20cc8-d65d-4746-a286-fa4ad74eb367",
   "metadata": {},
   "outputs": [
    {
     "name": "stdout",
     "output_type": "stream",
     "text": [
      "Correlation Matrix for Trading Volume Prediction:\n",
      "Correlation with Volume:\n",
      "Open: -0.5477\n",
      "High: -0.5462\n",
      "Low: -0.5446\n",
      "Adj Close: -0.5444\n",
      "Volume: 1.0000\n"
     ]
    }
   ],
   "source": [
    "from pyspark.sql import SparkSession\n",
    "from pyspark.ml.feature import VectorAssembler\n",
    "from pyspark.ml.stat import Correlation\n",
    "\n",
    "# Initialize SparkSession\n",
    "spark = SparkSession.builder \\\n",
    "    .appName(\"Stock_Price_Analysis\") \\\n",
    "    .getOrCreate()\n",
    "\n",
    "# Load stock price dataset\n",
    "stock_price_data = spark.read.csv(\"stocks.csv\", header=True, inferSchema=True)\n",
    "\n",
    "# Feature engineering\n",
    "feature_cols = [\"Open\", \"High\", \"Low\", \"Adj Close\", \"Volume\"]\n",
    "vectorAssembler = VectorAssembler(inputCols=feature_cols, outputCol=\"features\")\n",
    "feature_df = vectorAssembler.transform(stock_price_data.select(feature_cols))\n",
    "\n",
    "# Calculate correlation matrix\n",
    "corr_matrix = Correlation.corr(feature_df, \"features\").head()[0]\n",
    "\n",
    "# Display correlation values for the \"Volume\" feature\n",
    "volume_index = feature_cols.index(\"Volume\")\n",
    "print(\"Correlation Matrix for Trading Volume Prediction:\")\n",
    "print(f\"Correlation with Volume:\")\n",
    "for i, col in enumerate(feature_cols):\n",
    "    print(f\"{col}: {corr_matrix[volume_index, i]:.4f}\")\n"
   ]
  },
  {
   "cell_type": "code",
   "execution_count": 43,
   "id": "075e4d5b-ec52-4c6c-a1da-767b66bbad1f",
   "metadata": {},
   "outputs": [
    {
     "name": "stdout",
     "output_type": "stream",
     "text": [
      "Root Mean Squared Error (RMSE) for LinearRegression: 0.11759753623393689\n",
      "Root Mean Squared Error (RMSE) for DecisionTreeRegressor: 3.959521025741843\n",
      "Root Mean Squared Error (RMSE) for RandomForestRegressor: 3.0740932681527173\n"
     ]
    }
   ],
   "source": [
    "from pyspark.ml.regression import LinearRegression, DecisionTreeRegressor, RandomForestRegressor\n",
    "from pyspark.ml.evaluation import RegressionEvaluator\n",
    "\n",
    "# Define the evaluator\n",
    "evaluator = RegressionEvaluator(labelCol=\"Close\", predictionCol=\"prediction\", metricName=\"rmse\")\n",
    "\n",
    "# Train and evaluate different models\n",
    "models = [LinearRegression(), DecisionTreeRegressor(), RandomForestRegressor()]\n",
    "for model in models:\n",
    "    model_name = model.__class__.__name__\n",
    "    # Specify the label column correctly here\n",
    "    label_col = \"Close\"\n",
    "    model = model.setLabelCol(label_col).fit(train_data)\n",
    "    predictions = model.transform(test_data)\n",
    "    rmse = evaluator.evaluate(predictions)\n",
    "    print(f\"Root Mean Squared Error (RMSE) for {model_name}: {rmse}\")\n"
   ]
  },
  {
   "cell_type": "code",
   "execution_count": 47,
   "id": "ccd3f756-ff49-4958-a4ed-0ca58a75e698",
   "metadata": {},
   "outputs": [
    {
     "name": "stdout",
     "output_type": "stream",
     "text": [
      "Root Mean Squared Error (RMSE) for LinearRegression in Trading Volume Prediction: 1.4536125918779715e-08\n",
      "Root Mean Squared Error (RMSE) for DecisionTreeRegressor in Trading Volume Prediction: 1591740.152249611\n",
      "Root Mean Squared Error (RMSE) for RandomForestRegressor in Trading Volume Prediction: 2244980.467444841\n"
     ]
    }
   ],
   "source": [
    "from pyspark.sql import SparkSession\n",
    "from pyspark.ml.feature import VectorAssembler\n",
    "from pyspark.ml.regression import LinearRegression, DecisionTreeRegressor, RandomForestRegressor\n",
    "from pyspark.ml.evaluation import RegressionEvaluator\n",
    "\n",
    "# Initialize SparkSession\n",
    "spark = SparkSession.builder \\\n",
    "    .appName(\"Stock_Price_Analysis\") \\\n",
    "    .getOrCreate()\n",
    "\n",
    "# Load stock price dataset\n",
    "stock_price_data = spark.read.csv(\"stocks.csv\", header=True, inferSchema=True)\n",
    "\n",
    "# Define feature columns\n",
    "feature_cols = [\"Open\", \"High\", \"Low\", \"Adj Close\", \"Volume\"]\n",
    "\n",
    "# Ensure the label column exists in the dataset\n",
    "if \"Volume\" not in stock_price_data.columns:\n",
    "    raise ValueError(\"Volume column is missing in the dataset\")\n",
    "\n",
    "# Feature engineering\n",
    "vectorAssembler = VectorAssembler(inputCols=feature_cols, outputCol=\"features\")\n",
    "feature_df = vectorAssembler.transform(stock_price_data)\n",
    "\n",
    "# Split the data into train and test sets\n",
    "train_data, test_data = feature_df.randomSplit([0.8, 0.2], seed=42)\n",
    "\n",
    "# Define the regression models\n",
    "models = [\n",
    "    LinearRegression(labelCol=\"Volume\"),\n",
    "    DecisionTreeRegressor(labelCol=\"Volume\"),\n",
    "    RandomForestRegressor(labelCol=\"Volume\")\n",
    "]\n",
    "\n",
    "# Train and evaluate different models\n",
    "evaluator = RegressionEvaluator(labelCol=\"Volume\", predictionCol=\"prediction\", metricName=\"rmse\")\n",
    "for model in models:\n",
    "    model_name = model.__class__.__name__\n",
    "    fitted_model = model.fit(train_data)\n",
    "    predictions = fitted_model.transform(test_data)\n",
    "    rmse = evaluator.evaluate(predictions)\n",
    "    print(f\"Root Mean Squared Error (RMSE) for {model_name} in Trading Volume Prediction: {rmse}\")\n"
   ]
  },
  {
   "cell_type": "code",
   "execution_count": null,
   "id": "4032fe34-45f5-4f32-b5f6-53ad607648c2",
   "metadata": {},
   "outputs": [],
   "source": []
  }
 ],
 "metadata": {
  "kernelspec": {
   "display_name": "Python 3 (ipykernel)",
   "language": "python",
   "name": "python3"
  },
  "language_info": {
   "codemirror_mode": {
    "name": "ipython",
    "version": 3
   },
   "file_extension": ".py",
   "mimetype": "text/x-python",
   "name": "python",
   "nbconvert_exporter": "python",
   "pygments_lexer": "ipython3",
   "version": "3.11.7"
  }
 },
 "nbformat": 4,
 "nbformat_minor": 5
}
